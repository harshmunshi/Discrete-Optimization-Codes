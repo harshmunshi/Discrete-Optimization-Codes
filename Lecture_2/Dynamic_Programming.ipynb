{
 "cells": [
  {
   "cell_type": "code",
   "execution_count": 1,
   "metadata": {},
   "outputs": [],
   "source": [
    "from collections import namedtuple"
   ]
  },
  {
   "cell_type": "code",
   "execution_count": 2,
   "metadata": {},
   "outputs": [],
   "source": [
    "# Define the items\n",
    "Item = namedtuple(\"Item\", \"weight, value, name\")\n",
    "Items = [Item(5, 5, \"Bronze\"), Item(8,12,\"Mask\"), Item(1,5,\"Goldcage\")]"
   ]
  },
  {
   "cell_type": "code",
   "execution_count": 3,
   "metadata": {},
   "outputs": [
    {
     "name": "stdout",
     "output_type": "stream",
     "text": [
      "The value of Bronze is 5M$ and the weight is 5kgs\n",
      "The value of Mask is 12M$ and the weight is 8kgs\n",
      "The value of Goldcage is 5M$ and the weight is 1kgs\n"
     ]
    },
    {
     "data": {
      "text/plain": [
       "[None, None, None]"
      ]
     },
     "execution_count": 3,
     "metadata": {},
     "output_type": "execute_result"
    }
   ],
   "source": [
    "# Print the items\n",
    "printfn = lambda x: print(\"The value of {} is {}M$ and the weight is {}kgs\".format(x.name, x.value, x.weight))\n",
    "list(map(printfn,Items))"
   ]
  },
  {
   "cell_type": "code",
   "execution_count": 4,
   "metadata": {},
   "outputs": [],
   "source": [
    "# Define Knapsack Capacity\n",
    "K = 15"
   ]
  },
  {
   "cell_type": "code",
   "execution_count": 22,
   "metadata": {},
   "outputs": [
    {
     "name": "stdout",
     "output_type": "stream",
     "text": [
      "The optimal Value for this selection is 22M$\n"
     ]
    }
   ],
   "source": [
    "# Write a recursive loop to give the optimal value \n",
    "# Explanation given in the Basics\n",
    "\n",
    "def OptimalVal(k, j):\n",
    "    if(j == 0):\n",
    "        return 0\n",
    "    \n",
    "    if (Items[j-1].weight < k):\n",
    "        return max(OptimalVal(k, j-1), (Items[j-1].value + OptimalVal(k-Items[j-1].weight, j-1)))\n",
    "    else:\n",
    "        return OptimalVal(k, j-1)\n",
    "\n",
    "Val = OptimalVal(K, len(Items))\n",
    "print(\"The optimal Value for this selection is {}M$\".format(Val))"
   ]
  }
 ],
 "metadata": {
  "kernelspec": {
   "display_name": "Python 3",
   "language": "python",
   "name": "python3"
  },
  "language_info": {
   "codemirror_mode": {
    "name": "ipython",
    "version": 3
   },
   "file_extension": ".py",
   "mimetype": "text/x-python",
   "name": "python",
   "nbconvert_exporter": "python",
   "pygments_lexer": "ipython3",
   "version": "3.5.2"
  }
 },
 "nbformat": 4,
 "nbformat_minor": 2
}
