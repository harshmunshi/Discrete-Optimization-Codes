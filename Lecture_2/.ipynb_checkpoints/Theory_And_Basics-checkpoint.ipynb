{
 "cells": [
  {
   "cell_type": "markdown",
   "metadata": {},
   "source": [
    "## The 1D Knapsack Problem\n",
    "\n",
    "Modeling an optimization problem:\n",
    "* Choose decision variables\n",
    "* Express the problem constraints in terms of these variables\n",
    "* Express the objective function"
   ]
  },
  {
   "cell_type": "markdown",
   "metadata": {},
   "source": [
    "## Decision Variables\n",
    "\n",
    "$x_i$ denotes whether item i is selected in the solution or not, \n",
    "\n",
    "\\begin{equation}\n",
    "    x_i=\n",
    "    \\begin{cases}\n",
    "      1, & \\text{if}\\ selected \\\\\n",
    "      0, & \\text{otherwise}\n",
    "    \\end{cases}\n",
    "\\end{equation}"
   ]
  },
  {
   "cell_type": "markdown",
   "metadata": {},
   "source": [
    "## Problem Constraint\n",
    "\n",
    "\\begin{equation*}\n",
    "\\sum_{i \\in I}w_ix_i \\leq K\n",
    "\\end{equation*}\n",
    "\n",
    "K: Capacity of Knapsack \n",
    "\n",
    "w_i: weight of the ith object \n",
    "\n",
    "x_i: Decision variable"
   ]
  },
  {
   "cell_type": "markdown",
   "metadata": {},
   "source": [
    "## The Problem Statement\n",
    "\n",
    "maximize $\\sum_{i \\in I} v_ix_i$\n",
    "\n",
    "Subject to $\\sum_{i \\in I}w_ix_i \\leq K$"
   ]
  },
  {
   "cell_type": "markdown",
   "metadata": {},
   "source": [
    "## The Configuration Space\n",
    "\n",
    "If there are K items, one can with select none, some or all. The number of all such possible configurations is called the configuration space.\n",
    "\n",
    "$(0,0,0,0,......0), (0,0,0,0,.....1), ....., (1,1,1,1,.....1)$\n",
    "\n",
    "How many?\n",
    "\n",
    "$2^\\norm{x}$"
   ]
  },
  {
   "cell_type": "markdown",
   "metadata": {},
   "source": [
    "## Dynamic Programming \n",
    "\n",
    "* It uses divide and conquer\n",
    "* It uses bottom up computation\n",
    "\n",
    "$I = {1,2,3 \\dots, n}$\n",
    "\n",
    "$O(k,j)$ denotes the optimal solution to the problem with capacity k and items [1,...j].\n",
    "\n",
    "Some basic assumptions:\n",
    "* We are not trying to solve for the entire set of n objects.\n",
    "* We assume that for some capacity k we have an optimal solution termed O which taken into account j objects.\n",
    "* O(k,j) hence is the optimal construct.\n",
    "* The problem statement remains standard but we only consider j objects and not all n.\n",
    "* We are obviously intered in O(K,n)\n",
    "* $k \\in 0..K$\n",
    "* Assume we can already solve O(k, j-1), O is the value.\n",
    "* Now we want to add one more item.\n",
    "\n",
    "Problem flow\n",
    "* We want to add one more item.\n",
    "* First check if the weight of that item does not exceed the k.\n",
    "* So two cases: we select the item or not. If we do not select the value will be same as O(k, j-1).\n",
    "* In case we select it, we will have v_j + O(k-wj, j-1).\n",
    "* The above expression means that if we select the jth item, the capacity remaining now is k-wj and all the other j-1 items must have optimal solution as that as k.\n",
    "\n",
    "Hence\n",
    "\n",
    "\\begin{equation}\n",
    "    O(k,j)=\n",
    "    \\begin{cases}\n",
    "      max(O(k, j-1), v_j + O(k-w_j, j-1)), & \\text{if}\\ selected \\\\\n",
    "      O(k,j-1), & \\text{otherwise}\n",
    "    \\end{cases}\n",
    "\\end{equation}\n",
    "\n"
   ]
  }
 ],
 "metadata": {
  "kernelspec": {
   "display_name": "Python 3",
   "language": "python",
   "name": "python3"
  },
  "language_info": {
   "codemirror_mode": {
    "name": "ipython",
    "version": 3
   },
   "file_extension": ".py",
   "mimetype": "text/x-python",
   "name": "python",
   "nbconvert_exporter": "python",
   "pygments_lexer": "ipython3",
   "version": "3.5.2"
  }
 },
 "nbformat": 4,
 "nbformat_minor": 2
}
