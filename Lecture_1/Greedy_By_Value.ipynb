{
 "cells": [
  {
   "cell_type": "code",
   "execution_count": 1,
   "metadata": {},
   "outputs": [],
   "source": [
    "from collections import namedtuple"
   ]
  },
  {
   "cell_type": "code",
   "execution_count": 63,
   "metadata": {},
   "outputs": [],
   "source": [
    "# Define Items and ite's respective attributes\n",
    "\n",
    "Item = namedtuple('Item', \"weight,value,name\")\n",
    "Items = [Item(weight=8, value=10, name=\"Mask\"), \\\n",
    "         Item(weight=10, value=5, name=\"Tablet\"),\\\n",
    "         Item(weight=5, value=12, name=\"Torch\")]"
   ]
  },
  {
   "cell_type": "code",
   "execution_count": 64,
   "metadata": {},
   "outputs": [
    {
     "name": "stdout",
     "output_type": "stream",
     "text": [
      "The weight of Mask is 8 kg and it's value is 10 M$\n",
      "The weight of Tablet is 10 kg and it's value is 5 M$\n",
      "The weight of Torch is 5 kg and it's value is 12 M$\n"
     ]
    },
    {
     "data": {
      "text/plain": [
       "[None, None, None]"
      ]
     },
     "execution_count": 64,
     "metadata": {},
     "output_type": "execute_result"
    }
   ],
   "source": [
    "# Print and confirm if the initialisation was correct\n",
    "\n",
    "printfn = lambda x: print(\"The weight of {} is {} kg and it's value is {} M$\".format(x.name, x.weight, x.value))\n",
    "list(map(printfn, Items))"
   ]
  },
  {
   "cell_type": "code",
   "execution_count": 65,
   "metadata": {},
   "outputs": [],
   "source": [
    "# Define the Knapsack Capacity\n",
    "K = 15"
   ]
  },
  {
   "cell_type": "code",
   "execution_count": 66,
   "metadata": {},
   "outputs": [
    {
     "data": {
      "text/plain": [
       "[Item(weight=5, value=12, name='Torch'),\n",
       " Item(weight=8, value=10, name='Mask'),\n",
       " Item(weight=10, value=5, name='Tablet')]"
      ]
     },
     "execution_count": 66,
     "metadata": {},
     "output_type": "execute_result"
    }
   ],
   "source": [
    "# sort the Items based on the value in descending order\n",
    "keyGen = lambda x: x.value\n",
    "Items.sort(key=keyGen, reverse=True)\n",
    "Items"
   ]
  },
  {
   "cell_type": "code",
   "execution_count": 69,
   "metadata": {},
   "outputs": [
    {
     "name": "stdout",
     "output_type": "stream",
     "text": [
      "The weight of Torch is 5 kg and it's value is 12 M$\n",
      "The weight of Mask is 8 kg and it's value is 10 M$\n"
     ]
    },
    {
     "data": {
      "text/plain": [
       "[None, None]"
      ]
     },
     "execution_count": 69,
     "metadata": {},
     "output_type": "execute_result"
    }
   ],
   "source": [
    "# Start taking the items one by one till the knapsack isn't full\n",
    "current_weight = 0\n",
    "selected = []\n",
    "for it in Items:\n",
    "    if it.weight > K - current_weight:\n",
    "        pass\n",
    "    else:\n",
    "        selected.append(it)\n",
    "        current_weight += it.weight\n",
    "        #Items.pop(Items.index(it))\n",
    "\n",
    "list(map(printfn, selected))"
   ]
  }
 ],
 "metadata": {
  "kernelspec": {
   "display_name": "Python 3",
   "language": "python",
   "name": "python3"
  },
  "language_info": {
   "codemirror_mode": {
    "name": "ipython",
    "version": 3
   },
   "file_extension": ".py",
   "mimetype": "text/x-python",
   "name": "python",
   "nbconvert_exporter": "python",
   "pygments_lexer": "ipython3",
   "version": "3.5.2"
  }
 },
 "nbformat": 4,
 "nbformat_minor": 2
}
