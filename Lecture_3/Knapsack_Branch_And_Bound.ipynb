{
 "cells": [
  {
   "cell_type": "code",
   "execution_count": 1,
   "metadata": {},
   "outputs": [],
   "source": [
    "from collections import namedtuple"
   ]
  },
  {
   "cell_type": "code",
   "execution_count": 2,
   "metadata": {},
   "outputs": [],
   "source": [
    "# Define the items\n",
    "Item = namedtuple(\"Item\", \"weight, value, name\")\n",
    "Items = [Item(7, 5, \"Bronze\"), Item(11,12,\"Mask\"), Item(9,5,\"Goldcage\")]"
   ]
  },
  {
   "cell_type": "code",
   "execution_count": 8,
   "metadata": {},
   "outputs": [],
   "source": [
    "# Print the items"
   ]
  },
  {
   "cell_type": "code",
   "execution_count": 9,
   "metadata": {},
   "outputs": [
    {
     "name": "stdout",
     "output_type": "stream",
     "text": [
      "22\n"
     ]
    }
   ],
   "source": [
    "\"\"\"\n",
    "Branch and bound:\n",
    "In this case we have 3 objects. So we start by an assumption that we can get all three.\n",
    "The total optimistic value in this case will be 5+12+5 = 22M$. We do not consider the weight for now.\n",
    "\n",
    "So our initial node will be Reading optimistic value = 22, Capacity = K and actual value = 0\n",
    "\n",
    "We will call it Value, room and Estimate\n",
    "\"\"\"\n",
    "\n",
    "# Define Knapsack Capacity\n",
    "K = 15\n",
    "\n",
    "# Define a root note\n",
    "node = namedtuple('node', 'value, room, optimistic')\n",
    "root = node(0,K,22)\n",
    "print(root.optimistic)"
   ]
  },
  {
   "cell_type": "code",
   "execution_count": null,
   "metadata": {},
   "outputs": [],
   "source": [
    "# Start expanding the root node with some strategy\n",
    "\n",
    "def depth_first(root_node):\n",
    "    # Consider the left subtree first\n",
    "    open_list = []\n",
    "    open_list.append(root_node)\n",
    "    if len(open_list):\n",
    "        # If the length is not 0, expand the first node\n",
    "        if "
   ]
  }
 ],
 "metadata": {
  "kernelspec": {
   "display_name": "Python 3",
   "language": "python",
   "name": "python3"
  },
  "language_info": {
   "codemirror_mode": {
    "name": "ipython",
    "version": 2
   },
   "file_extension": ".py",
   "mimetype": "text/x-python",
   "name": "python",
   "nbconvert_exporter": "python",
   "pygments_lexer": "ipython2",
   "version": "2.7.15rc1"
  }
 },
 "nbformat": 4,
 "nbformat_minor": 2
}
